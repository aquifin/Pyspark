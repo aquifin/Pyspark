{
 "cells": [
  {
   "cell_type": "markdown",
   "metadata": {},
   "source": [
    "## Basics of Pyspark\n",
    "\n",
    "Basic operations using pyspark on 28M rows data"
   ]
  },
  {
   "cell_type": "code",
   "execution_count": 1,
   "metadata": {},
   "outputs": [],
   "source": [
    "import findspark\n",
    "findspark.init()"
   ]
  },
  {
   "cell_type": "code",
   "execution_count": 3,
   "metadata": {},
   "outputs": [],
   "source": [
    "from pyspark.sql import functions as F\n",
    "import pandas as pd\n",
    "import numpy as np\n",
    "from pyspark.sql.types import *\n",
    "from pyspark.sql.window import Window\n",
    "import joblib"
   ]
  },
  {
   "cell_type": "code",
   "execution_count": 4,
   "metadata": {},
   "outputs": [],
   "source": [
    "tr1 = spark.read.csv(r\"bluecog_transactions.csv\",sep ='\\t',header = False, inferSchema = True)"
   ]
  },
  {
   "cell_type": "code",
   "execution_count": 6,
   "metadata": {},
   "outputs": [
    {
     "data": {
      "text/plain": [
       "28753049"
      ]
     },
     "execution_count": 6,
     "metadata": {},
     "output_type": "execute_result"
    }
   ],
   "source": [
    "tr1.count()"
   ]
  },
  {
   "cell_type": "code",
   "execution_count": 7,
   "metadata": {},
   "outputs": [],
   "source": [
    "clean_exp=[\"*\"]+[\"case when currency in ('1`','Debit') then 'USD' else currency end as currency_clean\"]\n",
    "\n",
    "tr2 = tr1.toDF('ttid','docname','se10','contract_nbr','amort_date','instant_decision_date','account_number','txn_id','check_number','txn_date','txn_amount','currency','debit_credit','available_balance','model_pred','model_prob','level1','level2','categories','description')\\\n",
    ".withColumn(\"txn_dt\",F.to_date(\"txn_date\"))\\\n",
    ".selectExpr(clean_exp)\\\n",
    ".filter(F.lower(F.col(\"currency_clean\")) == 'usd')\n",
    "\n",
    "tr2 = tr2.dropDuplicates(['se10','contract_nbr','account_number','description','txn_date','txn_amount','debit_credit','available_balance']).filter(\"categories is not null and txn_amount is not null and available_balance is not null\")"
   ]
  },
  {
   "cell_type": "code",
   "execution_count": 8,
   "metadata": {},
   "outputs": [
    {
     "name": "stdout",
     "output_type": "stream",
     "text": [
      "+--------+--------------------+----------+------------+----------+---------------------+--------------+------+------------+----------+----------+--------+------------+-----------------+----------------+----------+----------------+------+----------------+-----------+----------+--------------+\n",
      "|    ttid|             docname|      se10|contract_nbr|amort_date|instant_decision_date|account_number|txn_id|check_number|  txn_date|txn_amount|currency|debit_credit|available_balance|      model_pred|model_prob|          level1|level2|      categories|description|    txn_dt|currency_clean|\n",
      "+--------+--------------------+----------+------------+----------+---------------------+--------------+------+------------+----------+----------+--------+------------+-----------------+----------------+----------+----------------+------+----------------+-----------+----------+--------------+\n",
      "|28384111|Bank Statements U...|6315598425|        null|      null|  2015-01-09 12:28:59|    0120002094|  null|        null|2014-11-26|    7190.0|     USD|      Credit|       -537547.74|sales - non card|    0.1141|sales - non card|  null|sales - non card|       null|2014-11-26|           USD|\n",
      "|28413318|Bank Statements U...|6315598425|        null|      null|  2015-01-09 12:28:59|    0120002094|  null|        null|2014-09-22|  17693.91|     USD|       Debit|       -474821.31| vendor payments|    0.8314| vendor payments|  null| vendor payments|       null|2014-09-22|           USD|\n",
      "+--------+--------------------+----------+------------+----------+---------------------+--------------+------+------------+----------+----------+--------+------------+-----------------+----------------+----------+----------------+------+----------------+-----------+----------+--------------+\n",
      "only showing top 2 rows\n",
      "\n"
     ]
    }
   ],
   "source": [
    "tr2.show(2)"
   ]
  },
  {
   "cell_type": "code",
   "execution_count": 9,
   "metadata": {},
   "outputs": [
    {
     "data": {
      "text/plain": [
       "28070466"
      ]
     },
     "execution_count": 9,
     "metadata": {},
     "output_type": "execute_result"
    }
   ],
   "source": [
    "tr2.count()"
   ]
  },
  {
   "cell_type": "code",
   "execution_count": 10,
   "metadata": {},
   "outputs": [],
   "source": [
    "w1 =Window.partitionBy(\"se10\").orderBy(F.desc(\"txn_dt\"))\n",
    "fill_exp=[\"*\"]+[\"case when contract_nbr is null then se10 else 'abc' end as contract_nbr1\"]\n",
    "w2 =Window.partitionBy(\"contract_nbr\").orderBy(F.desc(\"txn_dt\"))\n",
    "\n",
    "tr3_null = tr2.filter(\"contract_nbr is null\")\\\n",
    ".withColumn(\"last_dt\",F.first(F.col(\"txn_dt\")).over(w1))\\\n",
    ".withColumn(\"datediff\",F.datediff(\"last_dt\",\"txn_dt\"))\\\n",
    ".filter(\"datediff >=0 and datediff <=180\")\\\n",
    ".selectExpr(fill_exp)\\\n",
    ".drop(\"contract_nbr\")\\\n",
    ".withColumnRenamed(\"contract_nbr1\",\"contract_nbr\")\n",
    "\n",
    "tr3_notnull = tr2.filter(\"contract_nbr is not null\")\\\n",
    ".withColumn(\"last_dt\",F.first(F.col(\"txn_dt\")).over(w2))\\\n",
    ".withColumn(\"datediff\",F.datediff(\"last_dt\",\"txn_dt\"))\\\n",
    ".filter(\"datediff >=0 and datediff <=180\")\n",
    "\n",
    "tr4= tr3_null.union(tr3_notnull.select(tr3_null.columns))"
   ]
  },
  {
   "cell_type": "code",
   "execution_count": 11,
   "metadata": {},
   "outputs": [
    {
     "data": {
      "text/plain": [
       "25621249"
      ]
     },
     "execution_count": 11,
     "metadata": {},
     "output_type": "execute_result"
    }
   ],
   "source": [
    "tr4.count()"
   ]
  },
  {
   "cell_type": "code",
   "execution_count": 13,
   "metadata": {},
   "outputs": [],
   "source": [
    "expr=[\"*\"]+[\"case when lower(debit_credit)='credit' then txn_amount else -1*txn_amount end as txn_amt\"]\n",
    "\n",
    "tr4 = tr4.selectExpr(expr)\n",
    "\n",
    "exp1=[\"*\"]\\\n",
    "+[\"case when categories in ('utilities - Power','utilities - Telephone','utilities - TV','utilities - Internet',\\\n",
    "'utilities - Water','utilities - Others') then txn_amt else 0 end as utilities_expenses\"]\\\n",
    "+[\"case when categories in ('refund/reversals','rent','credit card payments','vendor payments','cash withdrawal','ng check',\\\n",
    "'card processor fees') then txn_amt else 0 end as other_expenses\"]\\\n",
    "+[\"case when categories in ('fees - ng','fees - overdraft','fees - others') then txn_amt else 0 end as fees_expenses\"]\\\n",
    "+[\"case when categories in ('sales - card','sales - non card','cash deposit')\\\n",
    " then txn_amt else 0 end as gross_sales\"]\\\n",
    "+[\"case when categories in ('chargeback','sales - card','sales - non card','cash deposit','deposited check return')\\\n",
    "  then txn_amt else 0 end as net_sales\"]\\\n",
    "+[\"case when categories in ('loan repayment/emi - Lenders','loan repayment/emi - Auto Finance','loan repayment/emi - Mortgage')\\\n",
    " then txn_amt else 0 end as emi_payment\"]\\\n",
    "+[\"case when categories in ('loans - Lenders','loans') then txn_amt else 0 end as loans\"]\\\n",
    "+[\"case when categories in ('insurance claim') then txn_amt else 0 end as insurance_claim\"]\\\n",
    "+[\"case when categories in ('insurance') then txn_amt else 0 end as insurance_premium\"]\\\n",
    "+[\"case when categories in ('investments') then txn_amt else 0 end as investments_made\"]\\\n",
    "+[\"case when categories in ('investments sold') then txn_amt else 0 end as investments_sold\"]\\\n",
    "+[\"case when categories in ('travel expenses - Airline','travel expenses - Hotels','travel expenses - Car Rental',\\\n",
    "'travel expenses - Others','travel expenses - Travel Agency') then txn_amt else 0 end as travel_expenses\"]\\\n",
    "+[\"case when categories in ('intra account transfer','intra account transfer - intra account 3',\\\n",
    "'intra account transfer - intra account 1','intra account transfer - intra account 4') then txn_amt else 0 end as intra_account\"]\\\n",
    "+[\"case when categories in ('salaries & benefits') then txn_amt else 0 end as salary_given\"]\\\n",
    "+[\"case when categories in ('salaries') then txn_amt else 0 end as salary_received\"]\\\n",
    "+[\"case when categories in ('ng check') then txn_amt else 0 end as dishonoured_check\"]\\\n",
    "+[\"case when categories in ('fees - ng') then 1 else 0 end as num_dishn_check\"]\\\n",
    "+[\"case when categories in ('taxes') then txn_amt else 0 end as taxes\"]\\\n",
    "+[\"case when categories in ('deposited check return') then txn_amt else 0 end as deposited_check_return\"]\\\n",
    "+[\"case when categories in ('miscellaneous credits') then txn_amt else 0 end as miscellaneous_credits\"]\\\n",
    "+[\"case when categories in ('miscellaneous debit') then txn_amt else 0 end as miscellaneous_debits\"]\n",
    "\n",
    "tr5 = tr4.selectExpr(exp1)\n",
    "\n",
    "agg_exp1=[]\\\n",
    "+[F.sum('gross_sales').alias('gross_sales')]\\\n",
    "+[F.sum('net_sales').alias('net_sales')]\\\n",
    "+[F.sum('utilities_expenses').alias('utilities_expenses')]\\\n",
    "+[F.sum('fees_expenses').alias('fees_expenses')]\\\n",
    "+[F.sum('emi_payment').alias('emi_amt')]\\\n",
    "+[F.sum('loans').alias('loan_amt')]\\\n",
    "+[F.sum('insurance_claim').alias('insurance_claim')]\\\n",
    "+[F.sum('insurance_premium').alias('insurance_premium')]\\\n",
    "+[F.sum('investments_made').alias('investments_made')]\\\n",
    "+[F.sum('investments_sold').alias('investments_sold')]\\\n",
    "+[F.sum('travel_expenses').alias('travel_expenses')]\\\n",
    "+[F.sum('intra_account').alias('intra_account')]\\\n",
    "+[F.sum('other_expenses').alias('other_expenses')]\\\n",
    "+[F.sum('salary_given').alias('salary_given')]\\\n",
    "+[F.sum('salary_received').alias('salary_received')]\\\n",
    "+[F.sum('taxes').alias('taxes')]\\\n",
    "+[F.sum('dishonoured_check').alias('sum_dishn_check_amt')]\\\n",
    "+[F.sum('num_dishn_check').alias('num_dishn_check')]\\\n",
    "+[F.sum('deposited_check_return').alias('sum_depo_check_return_amt')]\\\n",
    "+[F.sum('miscellaneous_credits').alias('miscellaneous_credits')]\\\n",
    "+[F.sum('miscellaneous_debits').alias('miscellaneous_debits')]\\\n",
    "+[F.max('last_dt').alias('last_dt')]\n",
    "\n",
    "tr6=tr5.groupBy('contract_nbr').agg(*agg_exp1)"
   ]
  },
  {
   "cell_type": "code",
   "execution_count": 14,
   "metadata": {},
   "outputs": [],
   "source": [
    "exp2=[\"*\"]\\\n",
    "+[\"net_sales+utilities_expenses+fees_expenses+travel_expenses+other_expenses+\\\n",
    "salary_given+miscellaneous_credits+miscellaneous_debits as profit\"]\\\n",
    "+[\"utilities_expenses+fees_expenses+travel_expenses+other_expenses+salary_given+miscellaneous_debits as total_expenses\"]\\\n",
    "+[\"case when net_sales=0 then 0 else -(emi_amt/net_sales) end as emi_sale_ratio\"]\\\n",
    "+[\"loan_amt/net_sales as loan_sale_ratio\"]\\\n",
    "+[\"case when net_sales=0 then 0 else 1 end as flag_sale\"]\\\n",
    "+[\"net_sales+taxes+utilities_expenses+travel_expenses+other_expenses+salary_given\\\n",
    "+investments_made+investments_sold+emi_amt+loan_amt as RCF\"]\\\n",
    "+[\"net_sales+taxes+utilities_expenses+fees_expenses+travel_expenses+other_expenses+salary_given\\\n",
    "+investments_made+investments_sold+emi_amt+loan_amt+insurance_claim+insurance_premium+miscellaneous_debits\\\n",
    "+miscellaneous_credits+salary_received as NCF\"]\n",
    "\n",
    "#Treating all the null values by filling with 0:\n",
    "exp3=[\"*\"]\\\n",
    "+[\"case when total_expenses=0 then 0 else 1 end as flag_expense\"]\\\n",
    "+[\"case when total_expenses=0 then 0 else -(profit/total_expenses) end as profit_expense_ratio\"]\\\n",
    "+[\"case when net_sales=0 then 0 else -(total_expenses/net_sales) end as expense_sale_ratio\"]\\\n",
    "+[\"case when emi_amt=0 then 0 else -(profit/emi_amt) end as profit_emi_ratio\"]\\\n",
    "+[\"loan_amt/profit as loan_profit_ratio\"]\\\n",
    "+[\"case when emi_amt=0 then 0 else -(RCF/emi_amt) end as RCF_emi_ratio\"]\\\n",
    "+[\"RCF/loan_amt as RCF_loan_ratio\"]\\\n",
    "+[\"case when net_sales=0 then 0 else profit/net_sales end as EBITA_margin\"]\n",
    "\n",
    "tr7 = tr6.selectExpr(exp2).selectExpr(exp3).filter('total_expenses<=0 and net_sales>=0')"
   ]
  },
  {
   "cell_type": "code",
   "execution_count": 15,
   "metadata": {},
   "outputs": [
    {
     "data": {
      "text/plain": [
       "17419"
      ]
     },
     "execution_count": 15,
     "metadata": {},
     "output_type": "execute_result"
    }
   ],
   "source": [
    "tr7.count()"
   ]
  },
  {
   "cell_type": "code",
   "execution_count": null,
   "metadata": {},
   "outputs": [],
   "source": []
  },
  {
   "cell_type": "code",
   "execution_count": null,
   "metadata": {},
   "outputs": [],
   "source": []
  },
  {
   "cell_type": "code",
   "execution_count": 16,
   "metadata": {},
   "outputs": [],
   "source": [
    "summary1 = spark.read.csv(\"bluecog_summary.csv\",sep ='\\t',header = False, inferSchema = True)"
   ]
  },
  {
   "cell_type": "code",
   "execution_count": 17,
   "metadata": {},
   "outputs": [
    {
     "data": {
      "text/plain": [
       "174103"
      ]
     },
     "execution_count": 17,
     "metadata": {},
     "output_type": "execute_result"
    }
   ],
   "source": [
    "summary1.count()"
   ]
  },
  {
   "cell_type": "code",
   "execution_count": 18,
   "metadata": {},
   "outputs": [],
   "source": [
    "summary2 = summary1.toDF('stid','docname','se10','contract_nbr','amort_date','instant_decision_date',\\\n",
    "\t'account_number','acctholdername','accttype','acctownership','nameofbank','bankaddress','bankcity',\\\n",
    "\t'bankstate','bankzip','currentbalance','startdate','enddate','openbalance','closingbalance',\\\n",
    "\t'total_amount_deposits','total_number_deposits','total_amount_withdrawals','total_number_withdrawals',\\\n",
    "\t'total_number_ofcheckreturns','total_number_inwardcheckreturn','total_amount_inwardcheckreturn',\\\n",
    "\t'total_number_outwardcheckreturn','total_amount_outwardcheckreturn','countecsoremi_monthly','amountecsoremi_monthly',\\\n",
    "\t'route_number','transactionallevelspreadingdone','nativevsnonnative','checksum','summary_and_transaction_match','no_of_pages')\\\n",
    "\n",
    "summary2=summary2.withColumn('flag_summary',F.lit(1))\n",
    "\n",
    "tr7=tr7.withColumn('flag_txn',F.lit(1))\n",
    "\n",
    "tr8=tr7.select('contract_nbr','last_dt','flag_txn')\n",
    "summary3=summary2.join(tr8,on='contract_nbr',how='left')\n",
    "summary3=summary3.filter('last_dt is not null')\n",
    "\n",
    "#Getting last six months data from summary table:\n",
    "summary4=summary3.withColumn('startdate',F.to_date(F.col('startdate')))\\\n",
    ".withColumn('enddate',F.to_date(F.col('enddate')))\\\n",
    ".withColumn('last_dt',F.to_date(F.col('last_dt')))\\\n",
    ".withColumn('sd',F.datediff('last_dt','startdate'))\\\n",
    ".withColumn('ed',F.datediff('last_dt','enddate')).filter('sd>=0 and ed<=180')\n",
    "\n",
    "#Converting current balance to float from string:\n",
    "summary4=summary4.withColumn(\"currentbalance\",F.round(summary4.currentbalance.cast(DoubleType()),2))\n",
    "\n",
    "agg_exp2=[]\\\n",
    "+[F.avg('currentbalance').alias('avg_bal')]\\\n",
    "+[F.max('currentbalance').alias('max_bal')]\\\n",
    "+[F.min('currentbalance').alias('min_bal')]\\\n",
    "+[F.max('flag_summary').alias('flag_summary')]\n",
    "\n",
    "#Aggregating balance over contract number:\n",
    "summary5=summary4.groupBy('contract_nbr').agg(*agg_exp2)"
   ]
  },
  {
   "cell_type": "code",
   "execution_count": 19,
   "metadata": {},
   "outputs": [
    {
     "data": {
      "text/plain": [
       "11922"
      ]
     },
     "execution_count": 19,
     "metadata": {},
     "output_type": "execute_result"
    }
   ],
   "source": [
    "summary5.count()"
   ]
  },
  {
   "cell_type": "code",
   "execution_count": null,
   "metadata": {},
   "outputs": [],
   "source": []
  }
 ],
 "metadata": {
  "kernelspec": {
   "display_name": "Python 3",
   "language": "python",
   "name": "python3"
  },
  "language_info": {
   "codemirror_mode": {
    "name": "ipython",
    "version": 3
   },
   "file_extension": ".py",
   "mimetype": "text/x-python",
   "name": "python",
   "nbconvert_exporter": "python",
   "pygments_lexer": "ipython3",
   "version": "3.8.5"
  }
 },
 "nbformat": 4,
 "nbformat_minor": 4
}
